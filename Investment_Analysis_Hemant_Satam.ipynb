{
 "cells": [
  {
   "cell_type": "code",
   "execution_count": 51,
   "metadata": {},
   "outputs": [
    {
     "name": "stdout",
     "output_type": "stream",
     "text": [
      "\n",
      "\n",
      "Table 1.1\n",
      "----------\n",
      "\n",
      "Unique values in companies DataFrame : 66368\n",
      "Unique values in companies round2 : 66370\n",
      "Additional companies in round2 that does not exist in companies DataFrame : 42493\n",
      "\n",
      "\n",
      "Table 2.1\n",
      "----------\n",
      "\n",
      "Investment amount by funding type as 'VENTURE'        =  10634054\n",
      "Investment amount by funding type as 'ANGEL'          =  764564\n",
      "Investment amount by funding type as 'SEED'           =  556607\n",
      "Investment amount by funding type as 'PRIVATE EQUITY' =  62111788\n"
     ]
    }
   ],
   "source": [
    "import pandas as pd\n",
    "\n",
    "companies = pd.read_csv(\"companies.txt\", delimiter=\"\\t\", encoding='ISO-8859-1')\n",
    "round2 = pd.read_csv(\"rounds2.csv\", encoding='ISO-8859-1')\n",
    "\n",
    "# Setting the value of key column to lower case to ensure consistency with joining dataframe\n",
    "companies['permalink'] = companies['permalink'].str.lower()\n",
    "round2['company_permalink'] = round2['company_permalink'].str.lower()\n",
    "\n",
    "# Replacing all NaN (Null) values with 0 to ensure that we get consistent aggregations\n",
    "round2['raised_amount_usd'].fillna(0, inplace=True)\n",
    "\n",
    "# Table 1.1 outcome\n",
    "print(\"\\n\\nTable 1.1\")\n",
    "print(\"----------\\n\")\n",
    "\n",
    "# Get details of unique companies in companies file\n",
    "print(\"Unique values in companies DataFrame :\", companies['permalink'].nunique())\n",
    "\n",
    "# Get details of unique companies in round2\n",
    "print(\"Unique values in companies round2 :\", round2['company_permalink'].nunique())\n",
    "\n",
    "# Find out of there are companies in round2 that are not present in companies file\n",
    "\n",
    "df1 = pd.DataFrame(companies,columns=['permalink'])\n",
    "df2 = pd.DataFrame(round2,columns=['company_permalink'])\n",
    "\n",
    "set_diff_df = pd.concat([df2, df1, df1], sort=True).drop_duplicates(keep=False)\n",
    "print(\"Additional companies in round2 that does not exist in companies DataFrame :\", set_diff_df['company_permalink'].count())\n",
    "\n",
    "# Merger two data frames\n",
    "master_frame = pd.merge(companies, round2, how='outer', left_on=['permalink'], right_on=['company_permalink'])\n",
    "\n",
    "# Table 2.1 outcome\n",
    "print(\"\\n\\nTable 2.1\")\n",
    "print(\"----------\\n\")\n",
    "\n",
    "# Setting display format for float values that are an outcome of groupby\n",
    "pd.set_option('display.float_format', lambda x: '%.0f' %x)\n",
    "\n",
    "# Calculate the most representative value of investment amount by funding type = 'VENTURE'\n",
    "venture_usd = round2[round2['funding_round_type'] == 'venture'].groupby('funding_round_type')['raised_amount_usd'].mean()\n",
    "print (\"Investment amount by funding type as 'VENTURE'        = \", '%.0f' % venture_usd)\n",
    "\n",
    "# Calculate the most representative value of investment amount by funding type = 'ANGEL'\n",
    "angel_usd = round2[round2['funding_round_type'] == 'angel'].groupby('funding_round_type')['raised_amount_usd'].mean()\n",
    "print (\"Investment amount by funding type as 'ANGEL'          = \", '%.0f' % angel_usd)\n",
    "\n",
    "# Calculate the most representative value of investment amount by funding type = 'SEED'\n",
    "seed_usd = round2[round2['funding_round_type'] == 'seed'].groupby('funding_round_type')['raised_amount_usd'].mean()\n",
    "print (\"Investment amount by funding type as 'SEED'           = \", '%.0f' % seed_usd)\n",
    "\n",
    "# Calculate the most representative value of investment amount by funding type = 'PRIVATE EQUITY'\n",
    "private_equity_usd = round2[round2['funding_round_type'] == 'private_equity'].groupby('funding_round_type')['raised_amount_usd'].mean()\n",
    "print (\"Investment amount by funding type as 'PRIVATE EQUITY' = \", '%.0f' % private_equity_usd)\n",
    "\n",
    "\n",
    "# Table 3.1 outcome\n",
    "print(\"\\n\\nTable 3.1\")\n",
    "print(\"----------\\n\")\n",
    "\n",
    "\n"
   ]
  },
  {
   "cell_type": "code",
   "execution_count": 1,
   "metadata": {},
   "outputs": [],
   "source": [
    "%config IPCompleter.greedy = True"
   ]
  },
  {
   "cell_type": "code",
   "execution_count": null,
   "metadata": {},
   "outputs": [],
   "source": []
  }
 ],
 "metadata": {
  "kernelspec": {
   "display_name": "Python 3",
   "language": "python",
   "name": "python3"
  },
  "language_info": {
   "codemirror_mode": {
    "name": "ipython",
    "version": 3
   },
   "file_extension": ".py",
   "mimetype": "text/x-python",
   "name": "python",
   "nbconvert_exporter": "python",
   "pygments_lexer": "ipython3",
   "version": "3.7.1"
  }
 },
 "nbformat": 4,
 "nbformat_minor": 2
}
